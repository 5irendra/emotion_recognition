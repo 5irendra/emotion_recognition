{
 "cells": [
  {
   "cell_type": "code",
   "execution_count": 1,
   "id": "bfdc7a1a-6988-4575-9ed1-f990b8184df5",
   "metadata": {},
   "outputs": [],
   "source": [
    "import os\n",
    "import numpy as np\n",
    "import pandas as pd\n",
    "import librosa\n"
   ]
  },
  {
   "cell_type": "code",
   "execution_count": 2,
   "id": "eca8c4b9-25d6-4083-bf7d-120a2af8de8d",
   "metadata": {},
   "outputs": [],
   "source": [
    "def extract_features(file_path, n_mfcc=40):\n",
    "    try:\n",
    "        audio, sr = librosa.load(file_path, res_type='kaiser_fast')\n",
    "        mfcc = librosa.feature.mfcc(y=audio, sr=sr, n_mfcc=n_mfcc)\n",
    "        return np.mean(mfcc.T, axis=0)\n",
    "    except Exception as e:\n",
    "        print(f\"❌ Error in {file_path}: {e}\")\n",
    "        return None\n"
   ]
  },
  {
   "cell_type": "code",
   "execution_count": 3,
   "id": "f09b42d5-cc4f-49d9-a8fe-9d59e311d6fe",
   "metadata": {},
   "outputs": [],
   "source": [
    "def get_emotion(filename):\n",
    "    emotion_map = {\n",
    "        \"01\": \"neutral\",\n",
    "        \"02\": \"calm\",\n",
    "        \"03\": \"happy\",\n",
    "        \"04\": \"sad\",\n",
    "        \"05\": \"angry\",\n",
    "        \"06\": \"fearful\",\n",
    "        \"07\": \"disgust\",\n",
    "        \"08\": \"surprised\"\n",
    "    }\n",
    "    try:\n",
    "        parts = filename.split(\"-\")\n",
    "        emotion_code = parts[2]\n",
    "        return emotion_map.get(emotion_code, \"unknown\")\n",
    "    except:\n",
    "        return \"unknown\"\n"
   ]
  },
  {
   "cell_type": "code",
   "execution_count": null,
   "id": "11fed30b-496a-4928-8605-30ab72f547de",
   "metadata": {},
   "outputs": [],
   "source": [
    "data = []\n",
    "labels = []\n",
    "\n",
    "base_dir = \"audio/\"\n",
    "folders = [\"songs\", \"speech\"]\n",
    "\n",
    "for folder in folders:\n",
    "    folder_path = os.path.join(base_dir, folder)\n",
    "    \n",
    "    for actor in os.listdir(folder_path):\n",
    "        actor_path = os.path.join(folder_path, actor)\n",
    "\n",
    "        for file in os.listdir(actor_path):\n",
    "            if file.endswith(\".wav\"):\n",
    "                file_path = os.path.join(actor_path, file)\n",
    "                features = extract_features(file_path)\n",
    "                emotion = get_emotion(file)\n",
    "\n",
    "                if features is not None and emotion != \"unknown\":\n",
    "                    data.append(features)\n",
    "                    labels.append(emotion)\n"
   ]
  },
  {
   "cell_type": "code",
   "execution_count": null,
   "id": "c0277aa0-a58c-4e7d-9c9b-f947c47c8027",
   "metadata": {},
   "outputs": [],
   "source": [
    "df = pd.DataFrame(data)\n",
    "df[\"label\"] = labels\n",
    "\n",
    "os.makedirs(\"features\", exist_ok=True)\n",
    "df.to_csv(\"features/emotion_features.csv\", index=False)\n",
    "\n",
    "print(\"✅ Saved to features/emotion_features.csv\")\n"
   ]
  },
  {
   "cell_type": "code",
   "execution_count": null,
   "id": "5ddc6082-75e0-4edf-9d54-bd1c7a72493e",
   "metadata": {},
   "outputs": [],
   "source": [
    "pip freeze > requirements.txt\n"
   ]
  },
  {
   "cell_type": "code",
   "execution_count": null,
   "id": "0525a094-cb53-4c33-810f-4800aaf2ddce",
   "metadata": {},
   "outputs": [],
   "source": []
  }
 ],
 "metadata": {
  "kernelspec": {
   "display_name": "Python 3 (ipykernel)",
   "language": "python",
   "name": "python3"
  },
  "language_info": {
   "codemirror_mode": {
    "name": "ipython",
    "version": 3
   },
   "file_extension": ".py",
   "mimetype": "text/x-python",
   "name": "python",
   "nbconvert_exporter": "python",
   "pygments_lexer": "ipython3",
   "version": "3.12.4"
  }
 },
 "nbformat": 4,
 "nbformat_minor": 5
}

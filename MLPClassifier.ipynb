{
 "cells": [
  {
   "cell_type": "code",
   "execution_count": 1,
   "id": "8dc8ba7b-f497-4f03-9748-c99c7d74237a",
   "metadata": {},
   "outputs": [],
   "source": [
    "import os\n",
    "import glob\n",
    "import time\n",
    "import numpy as np\n",
    "import pandas as pd\n",
    "import matplotlib.pyplot as plt\n",
    "import seaborn as sns\n",
    "import librosa\n",
    "import soundfile as sf\n",
    "from tqdm import tqdm\n",
    "from collections import Counter\n",
    "\n",
    "from sklearn.preprocessing import LabelEncoder, StandardScaler\n",
    "from sklearn.model_selection import train_test_split, GridSearchCV\n",
    "from sklearn.pipeline import Pipeline\n",
    "from sklearn.neural_network import MLPClassifier\n",
    "from sklearn.metrics import classification_report, accuracy_score, confusion_matrix, f1_score\n",
    "\n",
    "import joblib\n",
    "\n",
    "from tensorflow.keras.models import Sequential\n",
    "from tensorflow.keras.layers import Conv2D, MaxPooling2D, Flatten, Dense, Dropout, BatchNormalization, Input, LSTM, GRU\n",
    "from tensorflow.keras.utils import to_categorical\n",
    "from tensorflow.keras.callbacks import EarlyStopping\n"
   ]
  },
  {
   "cell_type": "code",
   "execution_count": 2,
   "id": "63d274f3-1a65-4bb0-9de6-c3bfee6086c1",
   "metadata": {},
   "outputs": [],
   "source": [
    "def extract_feature(file_name, mfcc=True, chroma=False, mel=False):\n",
    "    X, sample_rate = librosa.load(os.path.join(file_name), res_type='kaiser_fast')\n",
    "     \n",
    "    if chroma:\n",
    "        stft = np.abs(librosa.stft(X))\n",
    "    result = np.array([])\n",
    "    if mfcc:\n",
    "        mfccs = librosa.feature.mfcc(y=X, sr=sample_rate, n_mfcc=40)\n",
    "        mfccs_mean = np.mean(mfccs.T, axis=0)\n",
    "\n",
    "        # Delta and Delta-Delta\n",
    "        delta = librosa.feature.delta(mfccs)\n",
    "        # delta2 = librosa.feature.delta(mfccs, order=2)\n",
    "        delta_mean = np.mean(delta.T, axis=0)\n",
    "        # delta2_mean = np.mean(delta2.T, axis=0)\n",
    "\n",
    "        # Stack all MFCC-related\n",
    "        mfcc_combined = np.hstack((mfccs_mean, delta_mean))\n",
    "        result = np.hstack((result, mfccs_mean))\n",
    "    if chroma:\n",
    "        chroma = np.mean(librosa.feature.chroma_stft(S=stft, sr=sample_rate).T, axis=0)\n",
    "        result = np.hstack((result, chroma))\n",
    "    if mel:\n",
    "        mel = np.mean(librosa.feature.melspectrogram(y=X, sr=sample_rate).T, axis=0)\n",
    "        result = np.hstack((result, mel))\n",
    "\n",
    "    # Simple spectral features\n",
    "    # spec_centroid = np.mean(librosa.feature.spectral_centroid(y=X, sr=sample_rate).T, axis=0)\n",
    "    # spec_rolloff = np.mean(librosa.feature.spectral_rolloff(y=X, sr=sample_rate).T, axis=0)\n",
    "    # spec_bw = np.mean(librosa.feature.spectral_bandwidth(y=X, sr=sample_rate).T, axis=0)\n",
    "    # zcr = np.mean(librosa.feature.zero_crossing_rate(y=X).T, axis=0)\n",
    "\n",
    "    \n",
    "    return result\n"
   ]
  },
  {
   "cell_type": "code",
   "execution_count": 3,
   "id": "3d0225e1-bd54-465d-9d1f-de99c765cb77",
   "metadata": {},
   "outputs": [],
   "source": [
    "emotions = {\n",
    "        '01': 'neutral',\n",
    "        '02': 'calm',\n",
    "        '03': 'happy',\n",
    "        '04': 'sad',\n",
    "        '05': 'angry',\n",
    "        '06': 'fearful',\n",
    "        '07': 'disgust',\n",
    "        '08': 'surprised'\n",
    "    }\n",
    "observed_emotions = [\n",
    "        'neutral',\n",
    "        'calm',\n",
    "        'happy',\n",
    "        'sad',\n",
    "        'angry',\n",
    "        'fearful',\n",
    "        'disgust',\n",
    "        'surprised']"
   ]
  },
  {
   "cell_type": "code",
   "execution_count": 4,
   "id": "4e07efd3-dd1b-4a40-bf3b-b96a4f1fab80",
   "metadata": {},
   "outputs": [],
   "source": [
    "def load_data(test_size=0.2):\n",
    "    x, y = [], []\n",
    "    for file in glob.glob('audio/*/Actor_*/**/*.wav', recursive=True):\n",
    "        file_name = os.path.basename(file)\n",
    "        emotion = emotions[file_name.split(\"-\")[2]]\n",
    "        if emotion not in observed_emotions:\n",
    "            continue\n",
    "        feature = extract_feature(file, mfcc=True, chroma=True, mel=True)\n",
    "        x.append(feature)\n",
    "        y.append(emotion)\n",
    "    return train_test_split(np.array(x), y, test_size=test_size, train_size=0.80, random_state=9)\n"
   ]
  },
  {
   "cell_type": "code",
   "execution_count": null,
   "id": "ba01f9d6-9e64-4b09-966e-2e0a48dddd10",
   "metadata": {},
   "outputs": [],
   "source": [
    "x_train, x_test, y_train, y_test= load_data(test_size=0.2)"
   ]
  },
  {
   "cell_type": "code",
   "execution_count": null,
   "id": "0d9f1e1d-a7d2-4593-9311-d0edd5a9dbeb",
   "metadata": {},
   "outputs": [],
   "source": [
    "print((x_train.shape[0], x_test.shape[0]))"
   ]
  },
  {
   "cell_type": "code",
   "execution_count": null,
   "id": "fa7d6dd4-6bd7-486e-bd85-bf6831c3759c",
   "metadata": {},
   "outputs": [],
   "source": [
    "print(x_train.shape[1])"
   ]
  },
  {
   "cell_type": "code",
   "execution_count": null,
   "id": "07b25c16-9c68-46c9-b8e9-0f227a9927bf",
   "metadata": {},
   "outputs": [],
   "source": [
    "le = LabelEncoder()\n",
    "y_train_encoded = le.fit_transform(y_train)\n",
    "y_test_encoded = le.transform(y_test)"
   ]
  },
  {
   "cell_type": "code",
   "execution_count": null,
   "id": "b7f7c299-59e3-44fc-9425-d5bad7f19957",
   "metadata": {},
   "outputs": [],
   "source": []
  },
  {
   "cell_type": "code",
   "execution_count": null,
   "id": "699b2d82-14a6-4601-944e-cf0c8188660d",
   "metadata": {},
   "outputs": [],
   "source": []
  },
  {
   "cell_type": "code",
   "execution_count": null,
   "id": "4798d3ff-2192-4ad5-92c9-9ea1c13aeeab",
   "metadata": {},
   "outputs": [],
   "source": [
    "model = MLPClassifier(alpha=0.01, batch_size = 265, epsilon=1e-08, hidden_layer_sizes=(300,), learning_rate='adaptive', max_iter=500)"
   ]
  },
  {
   "cell_type": "code",
   "execution_count": null,
   "id": "3288cf57-fc51-4d1c-a33a-ba83e0d453e2",
   "metadata": {},
   "outputs": [],
   "source": [
    "model.fit(x_train, y_train_encoded)"
   ]
  },
  {
   "cell_type": "code",
   "execution_count": null,
   "id": "a3adddaa-5fd6-4222-a122-6fe462759e71",
   "metadata": {},
   "outputs": [],
   "source": [
    "y_pred=model.predict(x_test)"
   ]
  },
  {
   "cell_type": "code",
   "execution_count": null,
   "id": "3089a7c3-4e7a-4ca7-ade5-635a05f2f1c2",
   "metadata": {},
   "outputs": [],
   "source": [
    "accuracy = accuracy_score(y_true=y_test_encoded, y_pred=y_pred)\n",
    "\n",
    "print(\"Accuracy: {:.2f}%\".format(accuracy * 100))"
   ]
  },
  {
   "cell_type": "code",
   "execution_count": null,
   "id": "460891ea-14fb-4912-bc02-7c9cddb934ca",
   "metadata": {},
   "outputs": [],
   "source": [
    "from sklearn.metrics import classification_report\n",
    "print(classification_report(y_test_encoded, y_pred))\n"
   ]
  },
  {
   "cell_type": "code",
   "execution_count": null,
   "id": "244894e1-92ea-47dd-83c6-182b9fed1931",
   "metadata": {},
   "outputs": [],
   "source": [
    "matrix = confusion_matrix(y_test_encoded, y_pred)\n",
    "print(matrix)"
   ]
  },
  {
   "cell_type": "code",
   "execution_count": null,
   "id": "3ebab24c-9a5d-4c6d-904d-e0df887ee7f1",
   "metadata": {},
   "outputs": [],
   "source": []
  },
  {
   "cell_type": "code",
   "execution_count": null,
   "id": "28f35e44-82de-4feb-ab27-657de84bd374",
   "metadata": {},
   "outputs": [],
   "source": []
  },
  {
   "cell_type": "code",
   "execution_count": null,
   "id": "bd4348c6-650e-41b0-b5d9-b2dfa28d32c4",
   "metadata": {},
   "outputs": [],
   "source": []
  },
  {
   "cell_type": "code",
   "execution_count": null,
   "id": "be9618a6-5e37-4223-b01f-7f24f65bff6a",
   "metadata": {},
   "outputs": [],
   "source": []
  },
  {
   "cell_type": "code",
   "execution_count": null,
   "id": "2d1537a4-6e92-4ce0-aac1-8d5432fe530b",
   "metadata": {},
   "outputs": [],
   "source": []
  },
  {
   "cell_type": "code",
   "execution_count": null,
   "id": "f1c9bb17-bdfd-43bc-94bb-205c45444a1e",
   "metadata": {},
   "outputs": [],
   "source": []
  },
  {
   "cell_type": "code",
   "execution_count": null,
   "id": "80a72c00-a07d-4cb3-8a9c-b28c3f313dfd",
   "metadata": {},
   "outputs": [],
   "source": []
  },
  {
   "cell_type": "code",
   "execution_count": null,
   "id": "8a10ccca-ee0c-4a61-8b55-ea0478053be3",
   "metadata": {},
   "outputs": [],
   "source": []
  },
  {
   "cell_type": "code",
   "execution_count": null,
   "id": "ce6f105e-3818-4e68-866c-9dd14a1a1dac",
   "metadata": {},
   "outputs": [],
   "source": [
    "pipeline = Pipeline([\n",
    "    ('scaler', StandardScaler()),\n",
    "    ('mlp', MLPClassifier(hidden_layer_sizes=(256, 128),\n",
    "                          max_iter=700,\n",
    "                          alpha=1e-5,\n",
    "                          early_stopping=True,\n",
    "                          validation_fraction=0.1,\n",
    "                          learning_rate='adaptive',\n",
    "                          random_state=42))\n",
    "])\n",
    "\n",
    "pipeline.fit(x_train, y_train_encoded)\n",
    "print(\"Accuracy:\", pipeline.score(x_test, y_test_encoded))\n"
   ]
  },
  {
   "cell_type": "code",
   "execution_count": null,
   "id": "50528b51-d096-48da-8106-dca877be6ce2",
   "metadata": {},
   "outputs": [],
   "source": [
    "y_pred=pipeline.predict(x_test)"
   ]
  },
  {
   "cell_type": "code",
   "execution_count": null,
   "id": "c034df85-9ccc-44cf-a597-264493e0c38f",
   "metadata": {},
   "outputs": [],
   "source": [
    "accuracy = accuracy_score(y_true=y_test_encoded, y_pred=y_pred)\n",
    "\n",
    "print(\"Accuracy: {:.2f}%\".format(accuracy * 100))"
   ]
  },
  {
   "cell_type": "code",
   "execution_count": null,
   "id": "e65fd155-6cf5-465a-8403-cf27475cb90c",
   "metadata": {},
   "outputs": [],
   "source": [
    "print(classification_report(y_test_encoded, y_pred))"
   ]
  },
  {
   "cell_type": "code",
   "execution_count": null,
   "id": "3cc733d7-aaa8-4234-b1d9-7ca41985e110",
   "metadata": {},
   "outputs": [],
   "source": []
  },
  {
   "cell_type": "code",
   "execution_count": null,
   "id": "4dd4d660-0056-4093-8980-1acbe70c61f6",
   "metadata": {},
   "outputs": [],
   "source": []
  },
  {
   "cell_type": "code",
   "execution_count": null,
   "id": "1be5c99a-31ee-44f0-978b-aa58183ba359",
   "metadata": {},
   "outputs": [],
   "source": []
  },
  {
   "cell_type": "code",
   "execution_count": null,
   "id": "ebb8d642-f7ee-4a3b-a5f1-4fa7c82f9157",
   "metadata": {},
   "outputs": [],
   "source": []
  },
  {
   "cell_type": "code",
   "execution_count": null,
   "id": "f2a9b4dd-e808-4547-908a-93f2c092dadc",
   "metadata": {},
   "outputs": [],
   "source": []
  },
  {
   "cell_type": "code",
   "execution_count": null,
   "id": "fc4a1fe6-7513-4878-94ca-2b7ff6219033",
   "metadata": {},
   "outputs": [],
   "source": []
  },
  {
   "cell_type": "code",
   "execution_count": null,
   "id": "b83e5783-addc-46db-926c-7c7e96889338",
   "metadata": {},
   "outputs": [],
   "source": [
    "pipeline2 = Pipeline([\n",
    "    ('scaler', StandardScaler()),\n",
    "    ('mlp', MLPClassifier(\n",
    "        hidden_layer_sizes=(512, 256),\n",
    "        max_iter=1000,\n",
    "        alpha=1e-5,\n",
    "        learning_rate='adaptive',\n",
    "        learning_rate_init=0.0005,\n",
    "        early_stopping=True,\n",
    "        validation_fraction=0.1,\n",
    "        n_iter_no_change=15,\n",
    "        random_state=42\n",
    "    ))\n",
    "])\n",
    "\n",
    "pipeline2.fit(x_train, y_train_encoded)\n",
    "\n",
    "y_pred = pipeline2.predict(x_test)\n",
    "\n",
    "print(\"Accuracy:\", accuracy_score(y_test_encoded, y_pred))\n",
    "print(\"\\nClassification Report:\\n\", classification_report(y_test_encoded, y_pred))\n",
    "\n",
    "cm = confusion_matrix(y_test_encoded, y_pred)\n",
    "sns.heatmap(cm, annot=True, fmt='d', cmap='Blues')\n",
    "plt.title(\"Confusion Matrix\")\n",
    "plt.xlabel(\"Predicted\")\n",
    "plt.ylabel(\"Actual\")\n",
    "plt.show()\n"
   ]
  },
  {
   "cell_type": "code",
   "execution_count": null,
   "id": "f7966269-a7ec-46f9-9c0b-d28346564d9b",
   "metadata": {},
   "outputs": [],
   "source": []
  },
  {
   "cell_type": "code",
   "execution_count": null,
   "id": "dd522ff0-8c24-45a2-9f1d-c1a79d1a2d14",
   "metadata": {},
   "outputs": [],
   "source": []
  },
  {
   "cell_type": "code",
   "execution_count": null,
   "id": "1cfeeb9f-0bea-4d98-ba6b-6e379b7392cb",
   "metadata": {},
   "outputs": [],
   "source": []
  },
  {
   "cell_type": "code",
   "execution_count": null,
   "id": "26ea075e-f49c-4b7d-b992-b2ff3b5ee5a8",
   "metadata": {},
   "outputs": [],
   "source": []
  },
  {
   "cell_type": "code",
   "execution_count": null,
   "id": "ea4cb8ad-88f9-4c42-aa3e-cf1430655d83",
   "metadata": {},
   "outputs": [],
   "source": [
    "pipeline = Pipeline([\n",
    "    ('scaler', StandardScaler()),\n",
    "    ('mlp', MLPClassifier(max_iter=1000, \n",
    "                          early_stopping=True, \n",
    "                          validation_fraction=0.1,\n",
    "                          n_iter_no_change=15,\n",
    "                          random_state=42))\n",
    "])\n",
    "\n",
    "\n",
    "param_grid = {\n",
    "    'mlp__hidden_layer_sizes': [(256, 128), (512, 256)],\n",
    "    'mlp__alpha': [1e-4, 1e-5],\n",
    "    'mlp__learning_rate_init': [0.001, 0.0005]\n",
    "}\n",
    "\n",
    "grid = GridSearchCV(pipeline, param_grid, cv=3, scoring='accuracy', verbose=2, n_jobs=-1)\n",
    "grid.fit(x_train, y_train_encoded)\n",
    "\n",
    "print(\"Best Parameters:\", grid.best_params_)\n",
    "print(\"Best Training Accuracy:\", grid.best_score_)\n",
    "\n",
    "y_pred = grid.predict(x_test)\n",
    "print(\"\\nClassification Report:\\n\", classification_report(y_test_encoded, y_pred))\n",
    "\n",
    "cm = confusion_matrix(y_test_encoded, y_pred)\n",
    "sns.heatmap(cm, annot=True, fmt='d', cmap='Greens')\n",
    "plt.title(\"Confusion Matrix (Best MLP)\")\n",
    "plt.xlabel(\"Predicted\")\n",
    "plt.ylabel(\"Actual\")\n",
    "plt.show()\n"
   ]
  },
  {
   "cell_type": "code",
   "execution_count": null,
   "id": "099582c4-ffbf-49d6-aad8-085b30269a15",
   "metadata": {},
   "outputs": [],
   "source": []
  },
  {
   "cell_type": "code",
   "execution_count": null,
   "id": "226f5002-050b-4293-af9f-33ba31fa323d",
   "metadata": {},
   "outputs": [],
   "source": []
  },
  {
   "cell_type": "code",
   "execution_count": null,
   "id": "98fe2d0f-521f-4ef8-9f18-6968ee58108e",
   "metadata": {},
   "outputs": [],
   "source": []
  },
  {
   "cell_type": "code",
   "execution_count": null,
   "id": "085f3446-9d30-4a9a-b1f1-3dd85c297f35",
   "metadata": {},
   "outputs": [],
   "source": []
  },
  {
   "cell_type": "code",
   "execution_count": null,
   "id": "55238ca6-a673-420a-ba5a-7098f9e7c7a3",
   "metadata": {},
   "outputs": [],
   "source": [
    "train_df = pd.DataFrame(x_train)\n",
    "train_df['label'] = y_train_encoded\n",
    "test_df = pd.DataFrame(x_test)\n",
    "test_df['label'] = y_test_encoded\n",
    "\n",
    "# Drop low-performing emotion\n",
    "emotion_to_drop = 3\n",
    "train_df = train_df[train_df['label'] != emotion_to_drop]\n",
    "test_df = test_df[test_df['label'] != emotion_to_drop]\n",
    "\n",
    "# Recreate filtered splits\n",
    "x_train_filtered = train_df.drop('label', axis=1).values\n",
    "y_train_filtered = train_df['label'].values\n",
    "x_test_filtered = test_df.drop('label', axis=1).values\n",
    "y_test_filtered = test_df['label'].values\n",
    "\n",
    "filtered_pipeline = Pipeline([\n",
    "    ('scaler', StandardScaler()),\n",
    "    ('mlp', MLPClassifier(\n",
    "        hidden_layer_sizes=(512, 256, 128),     \n",
    "        max_iter=1600,\n",
    "        alpha=5e-6,                              \n",
    "        learning_rate='adaptive',\n",
    "        learning_rate_init=0.0007,\n",
    "        early_stopping=True,\n",
    "        validation_fraction=0.2,\n",
    "        n_iter_no_change=30,                  \n",
    "        random_state=42\n",
    "    ))\n",
    "])\n",
    "\n",
    "\n",
    "filtered_pipeline.fit(x_train_filtered, y_train_filtered)\n",
    "\n",
    "# Predict & Evaluate\n",
    "y_pred_filtered = filtered_pipeline.predict(x_test_filtered)\n",
    "acc = accuracy_score(y_test_filtered, y_pred_filtered)\n",
    "f1 = f1_score(y_test_filtered, y_pred_filtered, average='weighted')  # or use 'macro'/'micro' as needed\n",
    "\n",
    "print(\"\\nFinal Accuracy after improvements:\", acc)\n",
    "print(\"\\nFinal F1 Score:\", f1)\n",
    "print(\"\\nFinal Classification Report:\")\n",
    "print(classification_report(y_test_filtered, y_pred_filtered))\n",
    "\n",
    "\n",
    "cm = confusion_matrix(y_test_filtered, y_pred_filtered)\n",
    "sns.heatmap(cm, annot=True, fmt='d', cmap='Greens')\n",
    "plt.title(\"Confusion Matrix (Best MLP)\")\n",
    "plt.xlabel(\"Predicted\")\n",
    "plt.ylabel(\"Actual\")\n",
    "plt.show()"
   ]
  },
  {
   "cell_type": "code",
   "execution_count": null,
   "id": "3ccec129-96d4-40f7-aecd-9a7a280a9f1d",
   "metadata": {},
   "outputs": [],
   "source": [
    "# Save the trained model\n",
    "joblib.dump(filtered_pipeline, 'final_emotion_model.pkl')\n",
    "print(\"Model saved as 'final_emotion_model.pkl'\")\n"
   ]
  },
  {
   "cell_type": "code",
   "execution_count": null,
   "id": "a4fab55d-d564-4ab2-8d71-af99f659c950",
   "metadata": {},
   "outputs": [],
   "source": []
  },
  {
   "cell_type": "code",
   "execution_count": null,
   "id": "ba998cf8-efa7-4dc3-8779-83da8abbf95d",
   "metadata": {},
   "outputs": [],
   "source": []
  }
 ],
 "metadata": {
  "kernelspec": {
   "display_name": "Python 3 (ipykernel)",
   "language": "python",
   "name": "python3"
  },
  "language_info": {
   "codemirror_mode": {
    "name": "ipython",
    "version": 3
   },
   "file_extension": ".py",
   "mimetype": "text/x-python",
   "name": "python",
   "nbconvert_exporter": "python",
   "pygments_lexer": "ipython3",
   "version": "3.10.8"
  }
 },
 "nbformat": 4,
 "nbformat_minor": 5
}

{
 "cells": [
  {
   "cell_type": "code",
   "execution_count": 1,
   "id": "b6197c2c-a12f-4ec0-976d-4da30008afe2",
   "metadata": {},
   "outputs": [],
   "source": [
    "import os\n",
    "import glob\n",
    "import time\n",
    "import numpy as np\n",
    "import pandas as pd\n",
    "import librosa\n",
    "import matplotlib.pyplot as plt\n",
    "import seaborn as sn\n",
    "\n",
    "from sklearn.model_selection import train_test_split, cross_val_score, GridSearchCV\n",
    "from sklearn.preprocessing import StandardScaler\n",
    "from sklearn.pipeline import Pipeline\n",
    "from sklearn.svm import SVC\n",
    "from sklearn.metrics import classification_report, confusion_matrix, accuracy_score\n",
    "from sklearn.feature_selection import SelectKBest, f_classif\n"
   ]
  },
  {
   "cell_type": "code",
   "execution_count": 2,
   "id": "5adb0914-5650-4020-877e-15ffba0eda57",
   "metadata": {},
   "outputs": [],
   "source": [
    "emotions={\n",
    "  '01':'neutral',\n",
    "  '02':'calm',\n",
    "  '03':'happy',\n",
    "  '04':'sad',\n",
    "  '05':'angry',\n",
    "  '06':'fear',\n",
    "  '07':'disgust',\n",
    "  '08':'surprised'\n",
    "}\n",
    "\n",
    "observed_emotions = [\n",
    "        'neutral',\n",
    "        'calm',\n",
    "        'happy',\n",
    "        'sad',\n",
    "        'angry',\n",
    "        'fear',\n",
    "        'disgust',\n",
    "        'surprised']"
   ]
  },
  {
   "cell_type": "code",
   "execution_count": 3,
   "id": "d472cdfe-9f12-4d92-8af7-044a3ca73550",
   "metadata": {},
   "outputs": [],
   "source": [
    "def extract_feature(file_name, mfcc, chroma, mel):\n",
    "    X, sample_rate = librosa.load(os.path.join(file_name), res_type='kaiser_fast')\n",
    "    result = np.array([]) \n",
    "    if chroma:\n",
    "        stft = np.abs(librosa.stft(X))\n",
    "    result = np.array([])\n",
    "    if mfcc:\n",
    "        mfccs = librosa.feature.mfcc(y=X, sr=sample_rate, n_mfcc=40)\n",
    "        mfccs_mean = np.mean(mfccs.T, axis=0)\n",
    "\n",
    "        # delta = librosa.feature.delta(mfccs)\n",
    "        # delta_mean = np.mean(delta.T, axis=0)\n",
    "\n",
    "        result = np.hstack((result, mfccs_mean))\n",
    "    if chroma:\n",
    "        chroma = np.mean(librosa.feature.chroma_stft(S=stft, sr=sample_rate).T, axis=0)\n",
    "        result = np.hstack((result, chroma))\n",
    "    if mel:\n",
    "        mel = np.mean(librosa.feature.melspectrogram(y=X, sr=sample_rate).T, axis=0)\n",
    "        result = np.hstack((result, mel))\n",
    "    return result"
   ]
  },
  {
   "cell_type": "code",
   "execution_count": 4,
   "id": "41e1fb5d-241b-44de-8713-1b86f2fc4d28",
   "metadata": {},
   "outputs": [],
   "source": [
    "def load_data(test_size=0.2): \n",
    "    x, y = [], []\n",
    "\n",
    "    paths = [\n",
    "        \"audio/songs/Actor_*/**/*.wav\",\n",
    "        \"audio/speech/Actor_*/**/*.wav\"\n",
    "    ]\n",
    "\n",
    "    for path in paths:\n",
    "        for file in glob.glob(path, recursive=True):\n",
    "            file_name = os.path.basename(file)\n",
    "            emotion_code = file_name.split(\"-\")[2]\n",
    "            emotion = emotions.get(emotion_code)\n",
    "            if emotion not in observed_emotions:\n",
    "                continue\n",
    "            feature = extract_feature(file,mfcc=True, chroma=True, mel=True)\n",
    "            x.append(feature)\n",
    "            y.append(emotion)\n",
    "    \n",
    "    return {\"X\": x, \"y\": y}"
   ]
  },
  {
   "cell_type": "code",
   "execution_count": null,
   "id": "dde1d96e-6613-4a6d-8d4e-cfe8755562e4",
   "metadata": {},
   "outputs": [],
   "source": [
    "start_time = time.time()\n",
    "Trial_dict = load_data(test_size=0.2)\n",
    "print(\"--- Data loaded. Loading time: %s seconds ---\" % (time.time() - start_time))\n"
   ]
  },
  {
   "cell_type": "code",
   "execution_count": null,
   "id": "a447cec7-accd-44b7-953d-4739c51d7f44",
   "metadata": {},
   "outputs": [],
   "source": [
    "X = pd.DataFrame(Trial_dict[\"X\"])\n",
    "y = pd.DataFrame(Trial_dict[\"y\"])"
   ]
  },
  {
   "cell_type": "code",
   "execution_count": null,
   "id": "e1aaabbb-e973-453a-9fd5-b56da805b7fa",
   "metadata": {},
   "outputs": [],
   "source": [
    "data = pd.concat([X, y], axis=1)\n",
    "data = data.reindex(np.random.permutation(data.index))"
   ]
  },
  {
   "cell_type": "code",
   "execution_count": null,
   "id": "6365e30a-139f-413b-945a-1bdd462b6b5e",
   "metadata": {},
   "outputs": [],
   "source": [
    "# Save to CSV\n",
    "data.to_csv(\"RAVDESS_MFCC_Observed.csv\")"
   ]
  },
  {
   "cell_type": "code",
   "execution_count": null,
   "id": "829138d8-1144-4ce9-8d30-63cf36cc2c52",
   "metadata": {},
   "outputs": [],
   "source": []
  },
  {
   "cell_type": "code",
   "execution_count": null,
   "id": "ed5d0b47-7b67-41a7-852f-e2dca9c7b930",
   "metadata": {},
   "outputs": [],
   "source": []
  },
  {
   "cell_type": "code",
   "execution_count": null,
   "id": "fed581da-9c25-49d3-a78f-de363f3c3012",
   "metadata": {},
   "outputs": [],
   "source": []
  },
  {
   "cell_type": "code",
   "execution_count": null,
   "id": "224a4801-e8cb-412d-9cba-efeff8d12e3f",
   "metadata": {},
   "outputs": [],
   "source": []
  },
  {
   "cell_type": "code",
   "execution_count": null,
   "id": "652a1a1c-7739-4603-a8eb-b2fc6513bc23",
   "metadata": {},
   "outputs": [],
   "source": [
    "start_time = time.time()\n",
    "data = pd.read_csv('RAVDESS_MFCC_Observed.csv')\n",
    "print(\"Data loaded in {:.2f} seconds\".format(time.time() - start_time))"
   ]
  },
  {
   "cell_type": "code",
   "execution_count": null,
   "id": "e235a385-811f-4ac7-8cd0-400de0b99913",
   "metadata": {},
   "outputs": [],
   "source": [
    "if 'Unnamed: 0' in data.columns:\n",
    "    data = data.drop('Unnamed: 0', axis=1)"
   ]
  },
  {
   "cell_type": "code",
   "execution_count": null,
   "id": "ff0bee12-d543-4a0d-8472-ee2762b41a08",
   "metadata": {},
   "outputs": [],
   "source": [
    "data.head()"
   ]
  },
  {
   "cell_type": "code",
   "execution_count": null,
   "id": "6de64821-04cd-40bb-a624-2a565c8652b3",
   "metadata": {},
   "outputs": [],
   "source": [
    "print(data.columns)\n"
   ]
  },
  {
   "cell_type": "code",
   "execution_count": null,
   "id": "44aef573-e993-4f7e-b16c-a08a5ffc87b7",
   "metadata": {},
   "outputs": [],
   "source": [
    "# Rename the last column to 'emotion'\n",
    "data.rename(columns={data.columns[-1]: 'emotion'}, inplace=True)\n",
    "\n",
    "X = data.drop('emotion', axis=1).values\n",
    "y = data['emotion'].values\n"
   ]
  },
  {
   "cell_type": "code",
   "execution_count": null,
   "id": "2e4ec0c5-1549-4de7-8129-1dc40be8ede6",
   "metadata": {},
   "outputs": [],
   "source": [
    "print(data.head())\n",
    "print(data.columns.tolist())\n"
   ]
  },
  {
   "cell_type": "code",
   "execution_count": null,
   "id": "40091aec-4c96-468f-ad18-13a7c28f42c9",
   "metadata": {},
   "outputs": [],
   "source": [
    "print(\"X shape:\", X.shape)\n",
    "print(\"Unique labels:\", np.unique(y))"
   ]
  },
  {
   "cell_type": "code",
   "execution_count": null,
   "id": "df452dec-71a9-416c-8827-f3a577cf7295",
   "metadata": {},
   "outputs": [],
   "source": [
    "X_train, X_test, y_train, y_test = train_test_split(X, y, test_size=0.2, random_state=42)\n"
   ]
  },
  {
   "cell_type": "code",
   "execution_count": null,
   "id": "090c22b0-3b43-476c-85ae-34bab36947d6",
   "metadata": {},
   "outputs": [],
   "source": [
    "print(\"\\nTraining SVM without scaling...\")\n",
    "svm_unscaled = SVC(kernel='linear')\n",
    "start = time.time()\n",
    "svm_unscaled.fit(X_train, y_train)\n",
    "print(\"Trained in {:.2f} seconds\".format(time.time() - start))"
   ]
  },
  {
   "cell_type": "code",
   "execution_count": null,
   "id": "5f7a1e6c-79c5-4b85-851c-3ba8a37aa4a6",
   "metadata": {},
   "outputs": [],
   "source": [
    "y_pred_unscaled = svm_unscaled.predict(X_test)\n",
    "print(\"\\nClassification Report (Unscaled):\\n\", classification_report(y_test, y_pred_unscaled))\n",
    "print(\"Accuracy (Unscaled): {:.2f}%\".format(accuracy_score(y_test, y_pred_unscaled) * 100))\n",
    "\n",
    "\n",
    "cm_unscaled = confusion_matrix(y_test, y_pred_unscaled)\n",
    "sn.heatmap(pd.DataFrame(cm_unscaled), annot=True, fmt='d')\n",
    "plt.title(\"Confusion Matrix (Unscaled)\")\n",
    "plt.show()"
   ]
  },
  {
   "cell_type": "code",
   "execution_count": null,
   "id": "f07d35af-84d5-4ccf-85d6-4083df09eb4b",
   "metadata": {},
   "outputs": [],
   "source": []
  },
  {
   "cell_type": "code",
   "execution_count": null,
   "id": "aa812537-6a7f-403f-9454-cf11e8c391df",
   "metadata": {},
   "outputs": [],
   "source": []
  },
  {
   "cell_type": "code",
   "execution_count": null,
   "id": "1a47e275-b624-42b8-8d17-df78f3f30bb0",
   "metadata": {},
   "outputs": [],
   "source": []
  },
  {
   "cell_type": "code",
   "execution_count": null,
   "id": "3fed6a51-30f3-49e1-9b70-d3c7226cab90",
   "metadata": {},
   "outputs": [],
   "source": [
    "print(\"\\nTraining SVM with scaling (Pipeline)...\")\n",
    "pipeline = Pipeline([\n",
    "    ('scaler', StandardScaler()),\n",
    "    ('svm', SVC(kernel='linear'))\n",
    "])\n",
    "pipeline.fit(X_train, y_train)"
   ]
  },
  {
   "cell_type": "code",
   "execution_count": null,
   "id": "3d93cd9b-b08a-4fa3-bf8b-3999b3ee8455",
   "metadata": {},
   "outputs": [],
   "source": [
    "y_pred_scaled = pipeline.predict(X_test)\n",
    "print(\"\\nClassification Report (Scaled):\\n\", classification_report(y_test, y_pred_scaled))\n",
    "print(\"Accuracy (Scaled): {:.2f}%\".format(accuracy_score(y_test, y_pred_scaled) * 100))\n",
    "\n"
   ]
  },
  {
   "cell_type": "code",
   "execution_count": null,
   "id": "b3c3925e-19d6-4f10-b819-e10a3b057120",
   "metadata": {},
   "outputs": [],
   "source": [
    "cm_scaled = confusion_matrix(y_test, y_pred_scaled)\n",
    "sn.heatmap(pd.DataFrame(cm_scaled), annot=True, fmt='d')\n",
    "plt.title(\"Confusion Matrix (Scaled)\")\n",
    "plt.show()"
   ]
  },
  {
   "cell_type": "code",
   "execution_count": null,
   "id": "b629cd59-91da-4400-81c6-7ab5e36a5cc3",
   "metadata": {},
   "outputs": [],
   "source": [
    "print(\"\\nCross-validation accuracy scores (5-fold):\")\n",
    "cv_scores = cross_val_score(pipeline, X, y, cv=5)\n",
    "print(cv_scores)\n",
    "print(\"Mean CV accuracy: {:.2f}%\".format(np.mean(cv_scores) * 100))"
   ]
  },
  {
   "cell_type": "code",
   "execution_count": null,
   "id": "6152f836-95f7-46e9-9d53-2a8be24d92c5",
   "metadata": {},
   "outputs": [],
   "source": [
    "train_acc = pipeline.score(X_train, y_train) * 100\n",
    "test_acc = pipeline.score(X_test, y_test) * 100\n",
    "print(\"Train Accuracy (Scaled): {:.2f}%\".format(train_acc))\n",
    "print(\"Test Accuracy (Scaled): {:.2f}%\".format(test_acc))"
   ]
  },
  {
   "cell_type": "code",
   "execution_count": null,
   "id": "b39047a9-9ae5-4d05-81c9-4fba99ee7c86",
   "metadata": {},
   "outputs": [],
   "source": []
  },
  {
   "cell_type": "code",
   "execution_count": null,
   "id": "ee786d97-1525-4ad8-9310-1fbe7aa7718d",
   "metadata": {},
   "outputs": [],
   "source": [
    "pipeline = Pipeline([\n",
    "    # ('select', SelectKBest(score_func=f_classif, k=50)),\n",
    "    ('scaler', StandardScaler()),\n",
    "    ('svm', SVC())\n",
    "])\n",
    "\n",
    "param_grid = {\n",
    "    'svm__kernel': ['linear', 'rbf'],\n",
    "    'svm__C': [0.1, 1, 10],\n",
    "    'svm__gamma': ['scale', 'auto']\n",
    "}\n",
    "\n",
    "grid = GridSearchCV(pipeline, param_grid, cv=5, verbose=1, n_jobs=-1)\n",
    "grid.fit(X_train, y_train)\n",
    "\n",
    "print(\"Best Parameters:\", grid.best_params_)\n",
    "print(\"Best Cross-Validation Accuracy: {:.2f}%\".format(grid.best_score_ * 100))\n"
   ]
  },
  {
   "cell_type": "code",
   "execution_count": null,
   "id": "a378cd68-c67b-4d48-a162-871b4d08437b",
   "metadata": {},
   "outputs": [],
   "source": [
    "y_pred = grid.predict(X_test)\n",
    "\n",
    "print(classification_report(y_test, y_pred))\n",
    "print(\"Test Accuracy: {:.2f}%\".format(accuracy_score(y_test, y_pred) * 100))\n"
   ]
  },
  {
   "cell_type": "code",
   "execution_count": null,
   "id": "28942a6b-c0de-458c-be17-543f3b45ffbc",
   "metadata": {},
   "outputs": [],
   "source": []
  },
  {
   "cell_type": "code",
   "execution_count": null,
   "id": "ec8e9cb1-bed9-4a39-a0bd-9ad60912ff36",
   "metadata": {},
   "outputs": [],
   "source": []
  },
  {
   "cell_type": "code",
   "execution_count": null,
   "id": "9b57fcad-71c9-4c52-b63a-d90e8cf79dd6",
   "metadata": {},
   "outputs": [],
   "source": []
  },
  {
   "cell_type": "code",
   "execution_count": null,
   "id": "b42445ac-e114-4e2f-b8b8-f687d489e114",
   "metadata": {},
   "outputs": [],
   "source": []
  },
  {
   "cell_type": "code",
   "execution_count": null,
   "id": "c8e1960e-43d0-4137-95b2-d0654101bd5f",
   "metadata": {},
   "outputs": [],
   "source": []
  },
  {
   "cell_type": "code",
   "execution_count": null,
   "id": "0054f93b-937c-470b-b73a-cdc6a8345ca8",
   "metadata": {},
   "outputs": [],
   "source": []
  },
  {
   "cell_type": "code",
   "execution_count": null,
   "id": "40d1ac4f-1fe2-48f5-8a97-9d6bf20d31ae",
   "metadata": {},
   "outputs": [],
   "source": []
  },
  {
   "cell_type": "code",
   "execution_count": null,
   "id": "e1347dd1-651b-4c84-ab94-f500dd62d34b",
   "metadata": {},
   "outputs": [],
   "source": []
  },
  {
   "cell_type": "code",
   "execution_count": null,
   "id": "adb96538-89ff-4b23-86e7-060176061893",
   "metadata": {},
   "outputs": [],
   "source": []
  },
  {
   "cell_type": "code",
   "execution_count": null,
   "id": "39b1c62a-6bd2-4043-9f5c-75c4f4b22127",
   "metadata": {},
   "outputs": [],
   "source": []
  }
 ],
 "metadata": {
  "kernelspec": {
   "display_name": "Python 3 (ipykernel)",
   "language": "python",
   "name": "python3"
  },
  "language_info": {
   "codemirror_mode": {
    "name": "ipython",
    "version": 3
   },
   "file_extension": ".py",
   "mimetype": "text/x-python",
   "name": "python",
   "nbconvert_exporter": "python",
   "pygments_lexer": "ipython3",
   "version": "3.10.8"
  }
 },
 "nbformat": 4,
 "nbformat_minor": 5
}
